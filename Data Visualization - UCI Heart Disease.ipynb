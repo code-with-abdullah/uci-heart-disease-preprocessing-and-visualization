{
 "cells": [
  {
   "cell_type": "code",
   "execution_count": 1,
   "metadata": {},
   "outputs": [],
   "source": [
    "# for visualizations\n",
    "import seaborn as sns\n",
    "import matplotlib.pyplot as plt"
   ]
  },
  {
   "cell_type": "markdown",
   "metadata": {},
   "source": [
    "## Setting color pallete for graphs"
   ]
  },
  {
   "cell_type": "code",
   "execution_count": 2,
   "metadata": {},
   "outputs": [],
   "source": [
    "color_pallete =[\"#00876c\",\n",
    "                \"#56a474\",\n",
    "                \"#8ebf7f\",\n",
    "                \"#c6da8e\",\n",
    "                \"#fff4a4\",\n",
    "                \"#f9ca7a\",\n",
    "                \"#f29e5e\",\n",
    "                \"#e77051\",\n",
    "                \"#d43d51\"]\n",
    "sns.set_style('whitegrid')\n",
    "sns.set_palette(color_pallete)"
   ]
  },
  {
   "cell_type": "code",
   "execution_count": null,
   "metadata": {},
   "outputs": [],
   "source": []
  }
 ],
 "metadata": {
  "kernelspec": {
   "display_name": "Python 3",
   "language": "python",
   "name": "python3"
  },
  "language_info": {
   "codemirror_mode": {
    "name": "ipython",
    "version": 3
   },
   "file_extension": ".py",
   "mimetype": "text/x-python",
   "name": "python",
   "nbconvert_exporter": "python",
   "pygments_lexer": "ipython3",
   "version": "3.7.3"
  }
 },
 "nbformat": 4,
 "nbformat_minor": 2
}
